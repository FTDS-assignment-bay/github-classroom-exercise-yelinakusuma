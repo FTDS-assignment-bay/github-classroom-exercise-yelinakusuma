{
 "cells": [
  {
   "cell_type": "markdown",
   "metadata": {},
   "source": [
    "# Yuk kita nge Push"
   ]
  },
  {
   "cell_type": "markdown",
   "metadata": {},
   "source": [
    "1. `git clone <link ssh>` assignment\n",
    "2. `cd` ke repo di local device kalian\n",
    "3. Buat file tugas atau copas dari folder sebelum repo terbentuk\n",
    "4. `git status` untuk cek file terbaru tsb -> harusnya warna filenya merah\n",
    "5. `git add .` untuk masukan seluruh file di repo loka ke stage mode\n",
    "6. `git status` sekarang file yg tadinya warna merah harusnya warna hijau\n",
    "7. `git commit -m \"final_push\"` untuk commit tugas dan memberikan message(-m)\n",
    "8. `git push` untuk push ke github kalian\n",
    "9. Make sure di github kalian file baru sudah terupload."
   ]
  },
  {
   "cell_type": "markdown",
   "metadata": {},
   "source": [
    "# Notebook\n"
   ]
  },
  {
   "cell_type": "markdown",
   "metadata": {},
   "source": [
    "## Subheading 1\n",
    "### Subheading 2\n",
    "###### Subheading 6"
   ]
  },
  {
   "cell_type": "markdown",
   "metadata": {},
   "source": [
    "Barang\" rumah tangga\n",
    "1. Dapur:\n",
    "   - sendok \n",
    "   - garpu\n",
    "   - piring\n",
    "2. Kamar Mandi:\n",
    "   - Handuk\n",
    "   - sabun\n",
    "3. Kamar tidur:\n",
    "   - guling\n",
    "   - bantal\n",
    "   - furniture:\n",
    "      - lemari\n",
    "      - meja rias\n",
    "      - ranjang"
   ]
  },
  {
   "cell_type": "markdown",
   "metadata": {},
   "source": [
    "Ini untuk **bold**  \n",
    "Kalo ini *italic*</br>\n",
    "Yang ini ***bold_italic***\n",
    "\n",
    "Bisa kasi spasi2x, `</br>`, atau di enter 2x untuk output markdown return"
   ]
  },
  {
   "cell_type": "markdown",
   "metadata": {},
   "source": [
    "Untuk membedakan text dengan code cell di markdown biasanya pakai \n",
    "```\n",
    "petik\n",
    "```\n",
    "\n",
    "kalo sql\n",
    "```sql\n",
    "select * from <table>\n",
    "```\n",
    "\n",
    "```py\n",
    "def rumus_luas (p,l):\n",
    "    return p*l\n",
    "```\n",
    "\n",
    "`conda --version`"
   ]
  },
  {
   "cell_type": "code",
   "execution_count": 4,
   "metadata": {},
   "outputs": [],
   "source": [
    "def rumus_luas (p,l):\n",
    "    return p*l"
   ]
  },
  {
   "cell_type": "code",
   "execution_count": 5,
   "metadata": {},
   "outputs": [
    {
     "data": {
      "text/plain": [
       "100"
      ]
     },
     "execution_count": 5,
     "metadata": {},
     "output_type": "execute_result"
    }
   ],
   "source": [
    "rumus_luas(20,5)"
   ]
  },
  {
   "cell_type": "code",
   "execution_count": null,
   "metadata": {},
   "outputs": [],
   "source": []
  },
  {
   "cell_type": "markdown",
   "metadata": {},
   "source": [
    "oh ternyata jika panjang 20 cm lebar nya 5 cm luas nya itu 100 cm persegi."
   ]
  },
  {
   "cell_type": "markdown",
   "metadata": {},
   "source": [
    "---"
   ]
  },
  {
   "cell_type": "markdown",
   "metadata": {},
   "source": [
    "# Bab2"
   ]
  },
  {
   "cell_type": "markdown",
   "metadata": {},
   "source": [
    "Untuk membuat text rumus bisa pakai dolar '$'"
   ]
  },
  {
   "cell_type": "markdown",
   "metadata": {},
   "source": [
    "$y = 2x + 1$"
   ]
  }
 ],
 "metadata": {
  "kernelspec": {
   "display_name": "base",
   "language": "python",
   "name": "python3"
  },
  "language_info": {
   "codemirror_mode": {
    "name": "ipython",
    "version": 3
   },
   "file_extension": ".py",
   "mimetype": "text/x-python",
   "name": "python",
   "nbconvert_exporter": "python",
   "pygments_lexer": "ipython3",
   "version": "3.9.20"
  }
 },
 "nbformat": 4,
 "nbformat_minor": 2
}
